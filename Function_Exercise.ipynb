{
 "cells": [
  {
   "cell_type": "code",
   "execution_count": 2,
   "id": "8c5cf210-a789-4a4e-ad30-8830b7dc1fb0",
   "metadata": {},
   "outputs": [
    {
     "ename": "IndentationError",
     "evalue": "expected an indented block after function definition on line 1 (1305119743.py, line 2)",
     "output_type": "error",
     "traceback": [
      "\u001b[1;36m  Cell \u001b[1;32mIn[2], line 2\u001b[1;36m\u001b[0m\n\u001b[1;33m    print(\"Sub-fields in AI are:\")\u001b[0m\n\u001b[1;37m    ^\u001b[0m\n\u001b[1;31mIndentationError\u001b[0m\u001b[1;31m:\u001b[0m expected an indented block after function definition on line 1\n"
     ]
    }
   ],
   "source": [
    "def Subfields():\n",
    "print(\"Sub-fields in AI are:\")\n",
    "List=['Machine Learning', 'Neural Networks', 'Vision', 'Robotics', 'Speech','Processing', 'Natural Language Processing']\n",
    "for temp in List:\n",
    "print(temp)"
   ]
  },
  {
   "cell_type": "code",
   "execution_count": null,
   "id": "9b5c3c97-7780-4207-a5df-69880c39eab1",
   "metadata": {},
   "outputs": [],
   "source": []
  },
  {
   "cell_type": "code",
   "execution_count": 1,
   "id": "ab711a85-4588-46e1-aedd-ad0963d0076d",
   "metadata": {},
   "outputs": [
    {
     "name": "stdout",
     "output_type": "stream",
     "text": [
      "arn\n"
     ]
    }
   ],
   "source": [
    "print(\"arn\")\n",
    "\n",
    "      "
   ]
  },
  {
   "cell_type": "code",
   "execution_count": 2,
   "id": "39713af9-d445-498e-8ce3-de970c4f4b85",
   "metadata": {},
   "outputs": [
    {
     "ename": "IndentationError",
     "evalue": "expected an indented block after function definition on line 1 (1305119743.py, line 2)",
     "output_type": "error",
     "traceback": [
      "\u001b[1;36m  Cell \u001b[1;32mIn[2], line 2\u001b[1;36m\u001b[0m\n\u001b[1;33m    print(\"Sub-fields in AI are:\")\u001b[0m\n\u001b[1;37m    ^\u001b[0m\n\u001b[1;31mIndentationError\u001b[0m\u001b[1;31m:\u001b[0m expected an indented block after function definition on line 1\n"
     ]
    }
   ],
   "source": [
    "def Subfields():\n",
    "print(\"Sub-fields in AI are:\")\n",
    "List=['Machine Learning', 'Neural Networks', 'Vision', 'Robotics', 'Speech','Processing', 'Natural Language Processing']\n",
    "for temp in List:\n",
    "print(temp)"
   ]
  },
  {
   "cell_type": "code",
   "execution_count": 3,
   "id": "4932b5df-d3ec-41bc-b180-028844ac96c9",
   "metadata": {},
   "outputs": [
    {
     "name": "stdout",
     "output_type": "stream",
     "text": [
      "apple\n",
      "banana\n",
      "cherry\n"
     ]
    }
   ],
   "source": [
    "fruits = [\"apple\", \"banana\", \"cherry\"]\n",
    "for x in fruits:\n",
    "  print(x)"
   ]
  },
  {
   "cell_type": "code",
   "execution_count": 4,
   "id": "dd8f59a4-5163-4b5a-af9f-e6d273c388aa",
   "metadata": {},
   "outputs": [
    {
     "name": "stdout",
     "output_type": "stream",
     "text": [
      "b\n",
      "a\n",
      "n\n",
      "a\n",
      "n\n",
      "a\n"
     ]
    }
   ],
   "source": [
    "for x in \"banana\":\n",
    "  print(x)"
   ]
  },
  {
   "cell_type": "code",
   "execution_count": 5,
   "id": "34947127-75cc-48cc-9e34-0073f0daa9b2",
   "metadata": {},
   "outputs": [
    {
     "name": "stdout",
     "output_type": "stream",
     "text": [
      "a\n",
      "r\n",
      "u\n",
      "n\n",
      "k\n",
      "m\n",
      "a\n",
      "r\n"
     ]
    }
   ],
   "source": [
    "for x in \"arunkmar\":\n",
    "  print(x)"
   ]
  },
  {
   "cell_type": "code",
   "execution_count": 1,
   "id": "a56f93e1-e993-483f-812a-83d06a96403d",
   "metadata": {},
   "outputs": [],
   "source": [
    "def my_function():\n",
    "  print(\"Hello from a function\")"
   ]
  },
  {
   "cell_type": "code",
   "execution_count": 2,
   "id": "af9dc063-7e0b-4458-81bf-48ee3ee5b402",
   "metadata": {},
   "outputs": [
    {
     "name": "stdout",
     "output_type": "stream",
     "text": [
      "Hello from a function\n"
     ]
    }
   ],
   "source": [
    "def my_function():\n",
    "  print(\"Hello from a function\")\n",
    "\n",
    "my_function()"
   ]
  },
  {
   "cell_type": "code",
   "execution_count": 6,
   "id": "ae40a9ae-08f4-4d50-8b20-dcf3e632b3c7",
   "metadata": {},
   "outputs": [
    {
     "name": "stdout",
     "output_type": "stream",
     "text": [
      "Hello from a function\n"
     ]
    }
   ],
   "source": [
    "def my_function():\n",
    "  print(\"Hello from a function\")\n",
    "\n",
    "my_function()"
   ]
  },
  {
   "cell_type": "code",
   "execution_count": 7,
   "id": "5aea0c51-e20d-4b4c-8c6a-ca581b27bcf6",
   "metadata": {},
   "outputs": [
    {
     "name": "stdout",
     "output_type": "stream",
     "text": [
      "Emil Refsnes\n",
      "Tobias Refsnes\n",
      "Linus Refsnes\n"
     ]
    }
   ],
   "source": [
    "def my_function(fname):\n",
    "  print(fname + \" Refsnes\")\n",
    "\n",
    "my_function(\"Emil\")\n",
    "my_function(\"Tobias\")\n",
    "my_function(\"Linus\")"
   ]
  },
  {
   "cell_type": "code",
   "execution_count": 10,
   "id": "e1bd0cbc-9699-44db-bd24-fdb2f8a6679c",
   "metadata": {},
   "outputs": [],
   "source": [
    "def Subfields():\n",
    "    print(\"Display Sub-fields in Artificial Intelligence are:\")\n",
    "    List=['Machine Learning', 'Neural Networks', 'Vision', 'Robotics', 'Speech Processing', 'Natural Language Processing']\n",
    "    for temp in List:\n",
    "        print(temp)"
   ]
  },
  {
   "cell_type": "code",
   "execution_count": 11,
   "id": "26ef159a-395a-478e-84ce-5450cbeaf90a",
   "metadata": {},
   "outputs": [
    {
     "name": "stdout",
     "output_type": "stream",
     "text": [
      "Display Sub-fields in Artificial Intelligence are:\n",
      "Machine Learning\n",
      "Neural Networks\n",
      "Vision\n",
      "Robotics\n",
      "Speech Processing\n",
      "Natural Language Processing\n"
     ]
    }
   ],
   "source": [
    "Subfields()"
   ]
  },
  {
   "cell_type": "code",
   "execution_count": 12,
   "id": "6baf2f0b-8e6f-4a8f-aeab-04e51cd32e27",
   "metadata": {},
   "outputs": [],
   "source": [
    "def OddorEven():\n",
    "    num = int(input(\"Enter a number: \"))\n",
    "    if (num % 2) == 0:\n",
    "        print(\"{0} is Even number\".format(num))\n",
    "    else:\n",
    "        print(\"{0} is Odd number\".format(num))"
   ]
  },
  {
   "cell_type": "code",
   "execution_count": 14,
   "id": "a9642ffa-e12a-4e27-81f4-aa2af0108703",
   "metadata": {},
   "outputs": [
    {
     "name": "stdin",
     "output_type": "stream",
     "text": [
      "Enter a number:  23\n"
     ]
    },
    {
     "name": "stdout",
     "output_type": "stream",
     "text": [
      "23 is Odd number\n"
     ]
    }
   ],
   "source": [
    "OddorEven()"
   ]
  },
  {
   "cell_type": "code",
   "execution_count": 15,
   "id": "c1181839-611c-4791-aaef-c4b6e3e250d9",
   "metadata": {},
   "outputs": [],
   "source": [
    "def Marriage_Age_Check():\n",
    "    gender=input(\"Your your Gender:\")\n",
    "    age=int(input(\"Your your Age:\"))\n",
    "    if(gender=='Male'):\n",
    "            if(age >=22):\n",
    "                print('ELIGIBLE')\n",
    "            else:\n",
    "                print('NOT ELIGIBLE')\n",
    "    elif(gender=='Female'):\n",
    "            if(age >=18):\n",
    "                print('ELIGIBLE')\n",
    "            else:\n",
    "                print('NOT ELIGIBLE')\n",
    "    else:\n",
    "            print('INVALID INPUT DATA')"
   ]
  },
  {
   "cell_type": "code",
   "execution_count": 16,
   "id": "78fa978c-efe0-420c-9755-e9508508f597",
   "metadata": {},
   "outputs": [
    {
     "name": "stdin",
     "output_type": "stream",
     "text": [
      "Your your Gender: Male\n",
      "Your your Age: 12\n"
     ]
    },
    {
     "name": "stdout",
     "output_type": "stream",
     "text": [
      "NOT ELIGIBLE\n"
     ]
    }
   ],
   "source": [
    "Marriage_Age_Check()\n"
   ]
  },
  {
   "cell_type": "code",
   "execution_count": 17,
   "id": "b49ac7a2-95db-4f9e-870d-a4e73e3d0fa4",
   "metadata": {},
   "outputs": [
    {
     "name": "stdin",
     "output_type": "stream",
     "text": [
      "Your your Gender: FEMALE\n",
      "Your your Age: 21\n"
     ]
    },
    {
     "name": "stdout",
     "output_type": "stream",
     "text": [
      "INVALID INPUT DATA\n"
     ]
    }
   ],
   "source": [
    "Marriage_Age_Check()\n"
   ]
  },
  {
   "cell_type": "code",
   "execution_count": 18,
   "id": "8d2d3fc1-3eb0-4b85-8da6-34bfc29fa969",
   "metadata": {},
   "outputs": [
    {
     "name": "stdin",
     "output_type": "stream",
     "text": [
      "Your your Gender: Female\n",
      "Your your Age: 34\n"
     ]
    },
    {
     "name": "stdout",
     "output_type": "stream",
     "text": [
      "ELIGIBLE\n"
     ]
    }
   ],
   "source": [
    "Marriage_Age_Check()\n"
   ]
  },
  {
   "cell_type": "code",
   "execution_count": 19,
   "id": "0831ceed-94d1-4358-96d9-54b8a768aef3",
   "metadata": {},
   "outputs": [
    {
     "ename": "TypeError",
     "evalue": "my_function() missing 1 required positional argument: 'lname'",
     "output_type": "error",
     "traceback": [
      "\u001b[1;31m---------------------------------------------------------------------------\u001b[0m",
      "\u001b[1;31mTypeError\u001b[0m                                 Traceback (most recent call last)",
      "Cell \u001b[1;32mIn[19], line 4\u001b[0m\n\u001b[0;32m      1\u001b[0m \u001b[38;5;28;01mdef\u001b[39;00m \u001b[38;5;21mmy_function\u001b[39m(fname, lname):\n\u001b[0;32m      2\u001b[0m   \u001b[38;5;28mprint\u001b[39m(fname \u001b[38;5;241m+\u001b[39m \u001b[38;5;124m\"\u001b[39m\u001b[38;5;124m \u001b[39m\u001b[38;5;124m\"\u001b[39m \u001b[38;5;241m+\u001b[39m lname)\n\u001b[1;32m----> 4\u001b[0m my_function(\u001b[38;5;124m\"\u001b[39m\u001b[38;5;124mEmil\u001b[39m\u001b[38;5;124m\"\u001b[39m)\n",
      "\u001b[1;31mTypeError\u001b[0m: my_function() missing 1 required positional argument: 'lname'"
     ]
    }
   ],
   "source": [
    "def my_function(fname, lname):\n",
    "  print(fname + \" \" + lname)\n",
    "\n",
    "my_function(\"Emil\")"
   ]
  },
  {
   "cell_type": "code",
   "execution_count": 20,
   "id": "5d817434-3d46-4ab5-8f39-5089485a4220",
   "metadata": {},
   "outputs": [
    {
     "name": "stdout",
     "output_type": "stream",
     "text": [
      "Emil Refsnes\n"
     ]
    }
   ],
   "source": [
    "def my_function(fname, lname):\n",
    "  print(fname + \" \" + lname)\n",
    "\n",
    "my_function(\"Emil\", \"Refsnes\")"
   ]
  },
  {
   "cell_type": "code",
   "execution_count": 21,
   "id": "b468f52e-aebe-441d-8d19-cbac847d4215",
   "metadata": {},
   "outputs": [],
   "source": [
    "def OddEven():\n",
    "    num = int(input(\"Enter a number: \"))\n",
    "    if (num % 2) == 0:\n",
    "        print(\"{0} is Even number\".format(num))\n",
    "        Message=\"Even\"\n",
    "        return Message\n",
    "    else:\n",
    "        print(\"{0} is Odd number\".format(num))\n",
    "        Message=\"Odd\"\n",
    "        return Message"
   ]
  },
  {
   "cell_type": "code",
   "execution_count": 22,
   "id": "1085b499-5c52-47c7-9b72-98b4c0c1d515",
   "metadata": {},
   "outputs": [
    {
     "name": "stdin",
     "output_type": "stream",
     "text": [
      "Enter a number:  22\n"
     ]
    },
    {
     "name": "stdout",
     "output_type": "stream",
     "text": [
      "22 is Even number\n"
     ]
    },
    {
     "data": {
      "text/plain": [
       "'Even'"
      ]
     },
     "execution_count": 22,
     "metadata": {},
     "output_type": "execute_result"
    }
   ],
   "source": [
    "OddEven()"
   ]
  },
  {
   "cell_type": "code",
   "execution_count": 24,
   "id": "4cf99392-0578-4719-b481-406bcd6ce111",
   "metadata": {},
   "outputs": [],
   "source": [
    "def triangle():\n",
    "    Height=int(input(\"Enter Height:\"))\n",
    "    breadth=int(input(\"Enter Breadth:\"))\n",
    "    print(\"Area formula: (Height*Breadth)/2\")\n",
    "    print(\"Area of Triangle: \",(Height*breadth)/2)\n",
    "    Height1=int(input(\"Enter Height1:\"))\n",
    "    Height2=int(input(\"Enter Height2:\"))\n",
    "    breadth=int(input(\"Enter Breadth:\"))\n",
    "    print(\"Perimeter formula: Height1+Height2+Breadth\")\n",
    "    print(\"Perimeter of Triangle: \",Height1+Height2+breadth)"
   ]
  },
  {
   "cell_type": "code",
   "execution_count": 25,
   "id": "c2975eb0-f805-4ac0-afb7-79d70c6c1b1a",
   "metadata": {},
   "outputs": [
    {
     "name": "stdin",
     "output_type": "stream",
     "text": [
      "Enter Height: 11\n",
      "Enter Breadth: 12\n"
     ]
    },
    {
     "name": "stdout",
     "output_type": "stream",
     "text": [
      "Area formula: (Height*Breadth)/2\n",
      "Area of Triangle:  66.0\n"
     ]
    },
    {
     "name": "stdin",
     "output_type": "stream",
     "text": [
      "Enter Height1: 44\n",
      "Enter Height2: 55\n",
      "Enter Breadth: 77\n"
     ]
    },
    {
     "name": "stdout",
     "output_type": "stream",
     "text": [
      "Perimeter formula: Height1+Height2+Breadth\n",
      "Perimeter of Triangle:  176\n"
     ]
    }
   ],
   "source": [
    "triangle()"
   ]
  },
  {
   "cell_type": "code",
   "execution_count": 27,
   "id": "5feef7ad-6196-484f-9335-e9c04903b563",
   "metadata": {},
   "outputs": [
    {
     "ename": "IndentationError",
     "evalue": "expected an indented block after function definition on line 1 (402197726.py, line 2)",
     "output_type": "error",
     "traceback": [
      "\u001b[1;36m  Cell \u001b[1;32mIn[27], line 2\u001b[1;36m\u001b[0m\n\u001b[1;33m    print(\"Sub-fields in AI are:\")\u001b[0m\n\u001b[1;37m    ^\u001b[0m\n\u001b[1;31mIndentationError\u001b[0m\u001b[1;31m:\u001b[0m expected an indented block after function definition on line 1\n"
     ]
    }
   ],
   "source": [
    "def Subfields():\n",
    "print(\"Sub-fields in AI are:\")\n",
    "List=['Machine Learning', 'Neural Networks', 'Vision', 'Robotics', 'Speech','Processing', 'Natural Language Processing']\n"
   ]
  },
  {
   "cell_type": "code",
   "execution_count": 28,
   "id": "fdc84225-57dd-4a62-9634-4b44575216e3",
   "metadata": {},
   "outputs": [
    {
     "name": "stdout",
     "output_type": "stream",
     "text": [
      "Display Sub-fields in Artificial Intelligence are:\n",
      "Machine Learning\n",
      "Neural Networks\n",
      "Vision\n",
      "Robotics\n",
      "Speech Processing\n",
      "Natural Language Processing\n"
     ]
    }
   ],
   "source": [
    "Subfields()"
   ]
  },
  {
   "cell_type": "code",
   "execution_count": 29,
   "id": "a8c1f22a-e73b-4b86-a387-48b1812fb045",
   "metadata": {},
   "outputs": [
    {
     "name": "stdout",
     "output_type": "stream",
     "text": [
      "Display Sub-fields in Artificial Intelligence are:\n",
      "Machine Learning\n",
      "Neural Networks\n",
      "Vision\n",
      "Robotics\n",
      "Speech Processing\n",
      "Natural Language Processing\n"
     ]
    }
   ],
   "source": [
    "a=Subfields()"
   ]
  },
  {
   "cell_type": "code",
   "execution_count": 30,
   "id": "2280bac6-f8ee-4af6-bfcb-84cc09b99628",
   "metadata": {},
   "outputs": [],
   "source": [
    "a\n"
   ]
  },
  {
   "cell_type": "code",
   "execution_count": 31,
   "id": "0fdeead1-67e1-4687-894f-12320188baef",
   "metadata": {},
   "outputs": [],
   "source": [
    "def percentage():\n",
    "    m1=int(input(\"Subject1= \"))\n",
    "    m2=int(input(\"Subject2= \"))\n",
    "    m3=int(input(\"Subject3= \"))\n",
    "    m4=int(input(\"Subject4= \"))\n",
    "    m5=int(input(\"Subject5= \"))\n",
    "    Total = m1+m2+m3+m4+m5\n",
    "    print(\"Total : \",m1+m2+m3+m4+m5)\n",
    "    Percent = (Total / 500) * 100\n",
    "    print(\"Percentage : \",Percent)"
   ]
  },
  {
   "cell_type": "code",
   "execution_count": 32,
   "id": "b7a86141-94a6-4727-a9de-22a9a7696140",
   "metadata": {},
   "outputs": [
    {
     "name": "stdin",
     "output_type": "stream",
     "text": [
      "Subject1=  98\n",
      "Subject2=  88\n",
      "Subject3=  87\n",
      "Subject4=  90\n",
      "Subject5=  55\n"
     ]
    },
    {
     "name": "stdout",
     "output_type": "stream",
     "text": [
      "Total :  418\n",
      "Percentage :  83.6\n"
     ]
    }
   ],
   "source": [
    "percentage()"
   ]
  },
  {
   "cell_type": "markdown",
   "id": "050a6134-18cf-4328-852e-feabec5cca8b",
   "metadata": {},
   "source": [
    "ans=OddEven()"
   ]
  },
  {
   "cell_type": "code",
   "execution_count": null,
   "id": "85f2f552-e6a7-4445-8363-ce88a8dfb1ed",
   "metadata": {},
   "outputs": [],
   "source": []
  },
  {
   "cell_type": "code",
   "execution_count": 34,
   "id": "d46a0d24-6532-4def-bad6-194933a37150",
   "metadata": {},
   "outputs": [
    {
     "name": "stdin",
     "output_type": "stream",
     "text": [
      "Enter a number:  11\n"
     ]
    },
    {
     "name": "stdout",
     "output_type": "stream",
     "text": [
      "11 is Odd number\n"
     ]
    }
   ],
   "source": [
    "ans=OddEven()"
   ]
  },
  {
   "cell_type": "code",
   "execution_count": 35,
   "id": "80646fbd-ccd6-44ac-bdd9-be4762023f82",
   "metadata": {},
   "outputs": [
    {
     "ename": "SyntaxError",
     "evalue": "unterminated string literal (detected at line 1) (2344255188.py, line 1)",
     "output_type": "error",
     "traceback": [
      "\u001b[1;36m  Cell \u001b[1;32mIn[35], line 1\u001b[1;36m\u001b[0m\n\u001b[1;33m    'ans\u001b[0m\n\u001b[1;37m    ^\u001b[0m\n\u001b[1;31mSyntaxError\u001b[0m\u001b[1;31m:\u001b[0m unterminated string literal (detected at line 1)\n"
     ]
    }
   ],
   "source": [
    "'ans\n",
    "\n",
    "\n",
    "'"
   ]
  },
  {
   "cell_type": "code",
   "execution_count": 36,
   "id": "558e20a4-0791-4fb2-91ea-e8d1e94feaff",
   "metadata": {},
   "outputs": [
    {
     "name": "stdin",
     "output_type": "stream",
     "text": [
      "Enter a number:  88\n"
     ]
    },
    {
     "name": "stdout",
     "output_type": "stream",
     "text": [
      "88 is Even number\n"
     ]
    }
   ],
   "source": [
    "ans=OddEven()"
   ]
  },
  {
   "cell_type": "code",
   "execution_count": 1,
   "id": "bec25e28-9180-45e2-ae25-1211d0b2b284",
   "metadata": {},
   "outputs": [
    {
     "name": "stdout",
     "output_type": "stream",
     "text": [
      "It's alright\n",
      "He is called 'Johnny'\n",
      "He is called \"Johnny\"\n"
     ]
    }
   ],
   "source": [
    "print(\"It's alright\")\n",
    "print(\"He is called 'Johnny'\")\n",
    "print('He is called \"Johnny\"')"
   ]
  },
  {
   "cell_type": "code",
   "execution_count": 6,
   "id": "ed6970df-84cb-49b2-a00a-20a90ff04728",
   "metadata": {},
   "outputs": [
    {
     "ename": "IndentationError",
     "evalue": "unexpected indent (2412667084.py, line 6)",
     "output_type": "error",
     "traceback": [
      "\u001b[1;36m  Cell \u001b[1;32mIn[6], line 6\u001b[1;36m\u001b[0m\n\u001b[1;33m    else\u001b[0m\n\u001b[1;37m    ^\u001b[0m\n\u001b[1;31mIndentationError\u001b[0m\u001b[1;31m:\u001b[0m unexpected indent\n"
     ]
    }
   ],
   "source": [
    "def nnn():\n",
    "    a = 33\n",
    "b = 200\n",
    "if b > a:\n",
    "   print(\"b is greater than a\")\n",
    "    else\n",
    "print(\"a is greater\")\n",
    "nnn();\n"
   ]
  },
  {
   "cell_type": "code",
   "execution_count": 5,
   "id": "405e90df-e5e5-4da0-b659-84c164d4ea31",
   "metadata": {},
   "outputs": [
    {
     "ename": "NameError",
     "evalue": "name 'nnn' is not defined",
     "output_type": "error",
     "traceback": [
      "\u001b[1;31m---------------------------------------------------------------------------\u001b[0m",
      "\u001b[1;31mNameError\u001b[0m                                 Traceback (most recent call last)",
      "Cell \u001b[1;32mIn[5], line 1\u001b[0m\n\u001b[1;32m----> 1\u001b[0m nnn()\n",
      "\u001b[1;31mNameError\u001b[0m: name 'nnn' is not defined"
     ]
    }
   ],
   "source": [
    "nnn()"
   ]
  },
  {
   "cell_type": "code",
   "execution_count": 11,
   "id": "082c4f66-a898-463d-ad6a-ed94ac71d9c6",
   "metadata": {},
   "outputs": [
    {
     "name": "stdout",
     "output_type": "stream",
     "text": [
      "Hello, Anurag!\n"
     ]
    }
   ],
   "source": [
    "def msg(name):\n",
    "    return f\"Hello, {name}!\"\n",
    "\n",
    "f = msg\n",
    "\n",
    "\n",
    "print(f(\"Anurag\")) "
   ]
  },
  {
   "cell_type": "code",
   "execution_count": 10,
   "id": "6211c6f7-19de-4365-8bc5-890ea4f88747",
   "metadata": {},
   "outputs": [
    {
     "ename": "NameError",
     "evalue": "name 'Arun' is not defined",
     "output_type": "error",
     "traceback": [
      "\u001b[1;31m---------------------------------------------------------------------------\u001b[0m",
      "\u001b[1;31mNameError\u001b[0m                                 Traceback (most recent call last)",
      "Cell \u001b[1;32mIn[10], line 1\u001b[0m\n\u001b[1;32m----> 1\u001b[0m msg(Arun)\n",
      "\u001b[1;31mNameError\u001b[0m: name 'Arun' is not defined"
     ]
    }
   ],
   "source": [
    "msg(Arun)"
   ]
  },
  {
   "cell_type": "code",
   "execution_count": 12,
   "id": "03f53516-a137-4b0f-8603-1d80f4878124",
   "metadata": {},
   "outputs": [
    {
     "name": "stdout",
     "output_type": "stream",
     "text": [
      "Hello, ARUNKUMAR!\n"
     ]
    }
   ],
   "source": [
    "def msg(name):\n",
    "    return f\"Hello, {name}!\"\n",
    "\n",
    "f = msg\n",
    "\n",
    "\n",
    "print(f(\"ARUNKUMAR\")) "
   ]
  },
  {
   "cell_type": "code",
   "execution_count": 13,
   "id": "c5c38734-8eb9-4422-b4cb-09c1c63c142e",
   "metadata": {},
   "outputs": [
    {
     "name": "stdout",
     "output_type": "stream",
     "text": [
      "The youngest child is Linus\n"
     ]
    }
   ],
   "source": [
    "def my_function(child3, child2, child1):\n",
    "  print(\"The youngest child is \" + child3)\n",
    "\n",
    "my_function(child1 = \"Emil\", child2 = \"Tobias\", child3 = \"Linus\")"
   ]
  },
  {
   "cell_type": "code",
   "execution_count": null,
   "id": "9f3ab52f-a258-4341-bfca-90431dc744e3",
   "metadata": {},
   "outputs": [],
   "source": []
  }
 ],
 "metadata": {
  "kernelspec": {
   "display_name": "Python 3 (ipykernel)",
   "language": "python",
   "name": "python3"
  },
  "language_info": {
   "codemirror_mode": {
    "name": "ipython",
    "version": 3
   },
   "file_extension": ".py",
   "mimetype": "text/x-python",
   "name": "python",
   "nbconvert_exporter": "python",
   "pygments_lexer": "ipython3",
   "version": "3.12.7"
  }
 },
 "nbformat": 4,
 "nbformat_minor": 5
}
