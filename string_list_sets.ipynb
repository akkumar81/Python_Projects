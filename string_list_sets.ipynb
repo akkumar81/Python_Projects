{
 "cells": [
  {
   "cell_type": "code",
   "execution_count": 2,
   "id": "4564ac9e-0e10-456e-8360-11b3ffa4f7ec",
   "metadata": {},
   "outputs": [
    {
     "name": "stdout",
     "output_type": "stream",
     "text": [
      "ramuknurA\n"
     ]
    }
   ],
   "source": [
    "s = \"Arunkumar\"\n",
    "rev = s[::-1]\n",
    "print(rev)"
   ]
  },
  {
   "cell_type": "code",
   "execution_count": 3,
   "id": "2e33f405-74a1-462e-9eb9-0ab5c21f651d",
   "metadata": {},
   "outputs": [
    {
     "name": "stdout",
     "output_type": "stream",
     "text": [
      "4\n"
     ]
    }
   ],
   "source": [
    "a = \"Arun\"\n",
    "print(len(a))"
   ]
  },
  {
   "cell_type": "code",
   "execution_count": 4,
   "id": "1bff9f9f-73a9-46ca-9cf4-b73bf59b78a6",
   "metadata": {},
   "outputs": [
    {
     "name": "stdout",
     "output_type": "stream",
     "text": [
      "h\n",
      "e\n",
      "l\n",
      "l\n",
      "o\n",
      " \n",
      "A\n",
      "r\n",
      "u\n",
      "n\n"
     ]
    }
   ],
   "source": [
    "s = \"hello Arun\"\n",
    "\n",
    "for i in s:\n",
    "    print(i)"
   ]
  },
  {
   "cell_type": "code",
   "execution_count": 5,
   "id": "c0204027-3a1c-44eb-b97c-c32f43bcdbca",
   "metadata": {},
   "outputs": [
    {
     "name": "stdout",
     "output_type": "stream",
     "text": [
      "HELLO WORLD\n"
     ]
    }
   ],
   "source": [
    "s = \"hello world\"\n",
    "print(s.upper())"
   ]
  },
  {
   "cell_type": "code",
   "execution_count": 7,
   "id": "938e7dc6-bddb-491e-8afd-65b0c078442a",
   "metadata": {},
   "outputs": [
    {
     "name": "stdout",
     "output_type": "stream",
     "text": [
      "Hello, \n",
      "Python!\n",
      "Hello\n",
      "Hlo yhn\n"
     ]
    }
   ],
   "source": [
    "s = \"Hello, Python!\"\n",
    "print(s[0:7])   \n",
    "print(s[7:])    \n",
    "print(s[:5])   \n",
    "print(s[::2])  "
   ]
  },
  {
   "cell_type": "code",
   "execution_count": 8,
   "id": "a4f6cc9b-8f2c-41ad-a7af-8961a86dac12",
   "metadata": {},
   "outputs": [
    {
     "name": "stdout",
     "output_type": "stream",
     "text": [
      "True\n"
     ]
    }
   ],
   "source": [
    "s = \"Python is fun\"\n",
    "print(\"Python\" in s)"
   ]
  },
  {
   "cell_type": "code",
   "execution_count": 10,
   "id": "6650e224-e499-442d-86bd-52f3e565f2f5",
   "metadata": {},
   "outputs": [
    {
     "name": "stdout",
     "output_type": "stream",
     "text": [
      "Heeello world\n"
     ]
    }
   ],
   "source": [
    "s = \"heeello WORLD\"\n",
    "res = s.capitalize()\n",
    "print(res)"
   ]
  },
  {
   "cell_type": "code",
   "execution_count": 12,
   "id": "3b99140b-f081-4b82-8e54-cdd7226c10dc",
   "metadata": {},
   "outputs": [
    {
     "name": "stdout",
     "output_type": "stream",
     "text": [
      "2\n"
     ]
    }
   ],
   "source": [
    "s = \"hello worldfffff\"\n",
    "res = s.count(\"o\")\n",
    "print(res)"
   ]
  },
  {
   "cell_type": "code",
   "execution_count": 13,
   "id": "4563b9d2-5d5b-4372-81c2-d4a7d89a2539",
   "metadata": {},
   "outputs": [
    {
     "name": "stdout",
     "output_type": "stream",
     "text": [
      "2\n"
     ]
    }
   ],
   "source": [
    "s = \"ngsdfsdjf;se';lgs'e\"\n",
    "print(s.count(\"e\")) "
   ]
  },
  {
   "cell_type": "code",
   "execution_count": 14,
   "id": "fdd6f157-885d-4e9c-8934-3691656460e2",
   "metadata": {},
   "outputs": [
    {
     "name": "stdout",
     "output_type": "stream",
     "text": [
      "2\n"
     ]
    }
   ],
   "source": [
    "s = \"apple\"\n",
    "count = s.count('p')\n",
    "print(count)"
   ]
  },
  {
   "cell_type": "code",
   "execution_count": 15,
   "id": "790b25c9-b458-4014-b92e-d693b9bb99ca",
   "metadata": {},
   "outputs": [
    {
     "name": "stdout",
     "output_type": "stream",
     "text": [
      "z = 5; y = z + 3;\n"
     ]
    }
   ],
   "source": [
    "import re\n",
    "\n",
    "s = \"x = 5; y = x + 3;\"\n",
    "s = re.sub(r'\\bx\\b', 'z', s)\n",
    "print(s)"
   ]
  },
  {
   "cell_type": "code",
   "execution_count": 16,
   "id": "affe0d37-3ac9-4de1-b3ed-141c3d12313d",
   "metadata": {},
   "outputs": [
    {
     "name": "stdout",
     "output_type": "stream",
     "text": [
      "[10, 20, 99090, 40, 50]\n"
     ]
    }
   ],
   "source": [
    "a = [10, 20, 30, 40, 50]\n",
    "\n",
    "\n",
    "a[2] = 99090\n",
    "print(a)"
   ]
  },
  {
   "cell_type": "code",
   "execution_count": 17,
   "id": "aaebe0e3-f152-4de4-9dcc-ff022e316621",
   "metadata": {},
   "outputs": [
    {
     "name": "stdout",
     "output_type": "stream",
     "text": [
      "Without Order: gionfK\n",
      "With Order: Kingof\n"
     ]
    }
   ],
   "source": [
    "def removeDuplicate(str):\n",
    "    s = set(str)\n",
    "    s = \"\".join(s)\n",
    "    print(\"Without Order:\", s)\n",
    "    \n",
    "    t = \"\"\n",
    "    for i in str:\n",
    "        if i in t:\n",
    "            pass\n",
    "        else:\n",
    "            t = t + i\n",
    "            \n",
    "    print(\"With Order:\", t)\n",
    "\n",
    "str = \"KingofKing\"\n",
    "removeDuplicate(str)"
   ]
  },
  {
   "cell_type": "code",
   "execution_count": 18,
   "id": "61f7f518-d82e-445c-8082-fc937a1a1e6f",
   "metadata": {},
   "outputs": [
    {
     "name": "stdout",
     "output_type": "stream",
     "text": [
      "[10, 20, 40, 50]\n"
     ]
    }
   ],
   "source": [
    "a = [10, 20, 30, 40, 50]\n",
    "a.remove(30)\n",
    "print(a)"
   ]
  },
  {
   "cell_type": "code",
   "execution_count": 19,
   "id": "38410cd4-2b45-4e75-bfaa-f9b3b1c748f6",
   "metadata": {},
   "outputs": [
    {
     "name": "stdout",
     "output_type": "stream",
     "text": [
      "[1, 2, 3, 4, 5]\n"
     ]
    }
   ],
   "source": [
    "a = [1, 2, 2, 3, 4, 4, 5]\n",
    "\n",
    "a = list(set(a))\n",
    "\n",
    "print(a)"
   ]
  },
  {
   "cell_type": "code",
   "execution_count": 1,
   "id": "82ecc227-938d-4d8c-b3a6-31f8d711c638",
   "metadata": {},
   "outputs": [
    {
     "name": "stdout",
     "output_type": "stream",
     "text": [
      "[10, 20, 40, 50]\n"
     ]
    }
   ],
   "source": [
    "a = [10, 20, 30, 40, 50]\n",
    "\n",
    "del a[2]\n",
    "print(a)"
   ]
  },
  {
   "cell_type": "code",
   "execution_count": 3,
   "id": "0dadca9e-8a84-40d9-a5da-ec5d8c67bbdf",
   "metadata": {},
   "outputs": [
    {
     "name": "stdout",
     "output_type": "stream",
     "text": [
      "[1, 2, 3, 4]\n"
     ]
    }
   ],
   "source": [
    "a = [1, 2, 3]\n",
    "a.append(4)\n",
    "print(a)"
   ]
  },
  {
   "cell_type": "code",
   "execution_count": 4,
   "id": "367e79a5-2927-40f5-8012-4652f26ae1f4",
   "metadata": {},
   "outputs": [
    {
     "name": "stdout",
     "output_type": "stream",
     "text": [
      "[1, 2, 3, 4]\n"
     ]
    }
   ],
   "source": [
    "li = [1, 2, 3]\n",
    "li.append(4)\n",
    "print(li)"
   ]
  },
  {
   "cell_type": "code",
   "execution_count": 5,
   "id": "c69f35a3-e22b-4dfb-bbfd-5eaf88f246dc",
   "metadata": {},
   "outputs": [
    {
     "name": "stdout",
     "output_type": "stream",
     "text": [
      "[1, 2, 3, 4, 5]\n"
     ]
    }
   ],
   "source": [
    "a = [1, 2, 1, 1, 1,4,5,5,5,5,5,5,5,5,3, 4, 3, 3, 5]\n",
    "\n",
    "res = list(set(a))\n",
    "print(res)"
   ]
  },
  {
   "cell_type": "code",
   "execution_count": null,
   "id": "ed59fc1f-2747-479a-a6d8-a1696e875c4c",
   "metadata": {},
   "outputs": [],
   "source": []
  }
 ],
 "metadata": {
  "kernelspec": {
   "display_name": "Python 3 (ipykernel)",
   "language": "python",
   "name": "python3"
  },
  "language_info": {
   "codemirror_mode": {
    "name": "ipython",
    "version": 3
   },
   "file_extension": ".py",
   "mimetype": "text/x-python",
   "name": "python",
   "nbconvert_exporter": "python",
   "pygments_lexer": "ipython3",
   "version": "3.12.7"
  }
 },
 "nbformat": 4,
 "nbformat_minor": 5
}
