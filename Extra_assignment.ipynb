{
 "cells": [
  {
   "cell_type": "code",
   "execution_count": 1,
   "id": "b8627d90-55f3-49b0-80c5-019109f4b9fb",
   "metadata": {},
   "outputs": [
    {
     "name": "stdout",
     "output_type": "stream",
     "text": [
      "HOPE AI\n"
     ]
    }
   ],
   "source": [
    "print(\"HOPE AI\")\n"
   ]
  },
  {
   "cell_type": "code",
   "execution_count": 2,
   "id": "a48b8642-3871-4751-823b-d98ea437b3f3",
   "metadata": {},
   "outputs": [
    {
     "name": "stdin",
     "output_type": "stream",
     "text": [
      "Enter your institute name? :  Regional\n"
     ]
    }
   ],
   "source": [
    "name = input('Enter your institute name? : ')"
   ]
  },
  {
   "cell_type": "code",
   "execution_count": 3,
   "id": "c5d67ffb-ecce-4570-bf92-95c66b2cf2d3",
   "metadata": {},
   "outputs": [
    {
     "name": "stdin",
     "output_type": "stream",
     "text": [
      "Enter your name:  wwtw\n",
      "Enter your age:  werwe\n",
      "Enter your school name:  werwe\n"
     ]
    }
   ],
   "source": [
    "name = input('Enter your name: ')\n",
    "age = input('Enter your age: ')\n",
    "school = input('Enter your school name: ')\n"
   ]
  },
  {
   "cell_type": "code",
   "execution_count": 4,
   "id": "0444098c-fadf-4cb9-918d-ecc615ad9427",
   "metadata": {},
   "outputs": [
    {
     "name": "stdin",
     "output_type": "stream",
     "text": [
      "a=  77\n",
      "b=  778\n"
     ]
    },
    {
     "name": "stdout",
     "output_type": "stream",
     "text": [
      "Floor Div = 0\n"
     ]
    }
   ],
   "source": [
    "num1 = int(input(\"a= \"))\n",
    "num2 = int(input(\"b= \"))\n",
    "print(\"Floor Div =\",num1 // num2)"
   ]
  },
  {
   "cell_type": "code",
   "execution_count": 5,
   "id": "dbc22816-5ab2-45ae-a68b-03425bc37df1",
   "metadata": {},
   "outputs": [
    {
     "name": "stdin",
     "output_type": "stream",
     "text": [
      "a=  55\n",
      "b=  33\n"
     ]
    },
    {
     "name": "stdout",
     "output_type": "stream",
     "text": [
      "Modulo = 22\n"
     ]
    }
   ],
   "source": [
    "num1 = int(input(\"a= \"))\n",
    "num2 = int(input(\"b= \"))\n",
    "print(\"Modulo =\",num1 % num2)"
   ]
  },
  {
   "cell_type": "code",
   "execution_count": 6,
   "id": "f7ae11c6-fd3a-47e7-bd7a-17de96c73994",
   "metadata": {},
   "outputs": [
    {
     "name": "stdin",
     "output_type": "stream",
     "text": [
      "a=  98\n",
      "b=  7\n"
     ]
    },
    {
     "name": "stdout",
     "output_type": "stream",
     "text": [
      "Power = 86812553324672\n"
     ]
    }
   ],
   "source": [
    "num1 = int(input(\"a= \"))\n",
    "num2 = int(input(\"b= \"))\n",
    "print(\"Power =\",num1 ** num2)"
   ]
  },
  {
   "cell_type": "code",
   "execution_count": 7,
   "id": "82b6e151-a1a2-43e0-a29e-67a482e32e3e",
   "metadata": {},
   "outputs": [
    {
     "name": "stdin",
     "output_type": "stream",
     "text": [
      "Enter your name:  twtw\n",
      "Enter your age:  11\n",
      "Enter your school name:  sdgsdg\n",
      "Enter your drgree:  de\n"
     ]
    }
   ],
   "source": [
    "name = input('Enter your name: ')\n",
    "age = input('Enter your age: ')\n",
    "school = input('Enter your school name: ')\n",
    "degree = input('Enter your drgree: ')"
   ]
  },
  {
   "cell_type": "code",
   "execution_count": 8,
   "id": "33e5a5d0-d7f0-4c1b-b431-582b5fb4538d",
   "metadata": {},
   "outputs": [
    {
     "name": "stdout",
     "output_type": "stream",
     "text": [
      "0\n",
      "1\n",
      "2\n",
      "3\n",
      "4\n",
      "5\n",
      "6\n",
      "7\n",
      "8\n",
      "9\n",
      "10\n",
      "11\n",
      "12\n",
      "13\n",
      "14\n",
      "15\n",
      "16\n",
      "17\n",
      "18\n",
      "19\n"
     ]
    }
   ],
   "source": [
    "range(20)\n",
    "for temp in range(20):\n",
    " print(temp)"
   ]
  },
  {
   "cell_type": "code",
   "execution_count": 10,
   "id": "4cae9d68-ab9d-4351-bc28-6381095e7374",
   "metadata": {},
   "outputs": [
    {
     "name": "stdout",
     "output_type": "stream",
     "text": [
      "[10, 20, 14, 55, 43, 87, 76, 32, 42, 4242, 22323, 232423423]\n",
      "Number of item in the List2: \n",
      "12\n"
     ]
    }
   ],
   "source": [
    "List2 = [10, 20, 14 ,55 ,43 ,87 ,76 ,32,42,4242,22323,232423423]\n",
    "print(List2)\n",
    "print(\"Number of item in the List2: \")\n",
    "print(len(List2))"
   ]
  },
  {
   "cell_type": "code",
   "execution_count": 11,
   "id": "eaddb27d-11da-4608-835c-921889c053e0",
   "metadata": {},
   "outputs": [
    {
     "name": "stdout",
     "output_type": "stream",
     "text": [
      "-Your Name-\n",
      "-Your Age-\n",
      "-Your Profession-\n"
     ]
    }
   ],
   "source": [
    "list = [\"-Your Name-\", \"-Your Age-\", \"-Your Profession-\"]\n",
    "for i in list:\n",
    " print(i)\n"
   ]
  },
  {
   "cell_type": "code",
   "execution_count": 32,
   "id": "bae19561-f183-4b30-a8f8-036d8e40f436",
   "metadata": {},
   "outputs": [
    {
     "ename": "IndentationError",
     "evalue": "unindent does not match any outer indentation level (<string>, line 11)",
     "output_type": "error",
     "traceback": [
      "\u001b[1;36m  File \u001b[1;32m<string>:11\u001b[1;36m\u001b[0m\n\u001b[1;33m    else:\u001b[0m\n\u001b[1;37m         ^\u001b[0m\n\u001b[1;31mIndentationError\u001b[0m\u001b[1;31m:\u001b[0m unindent does not match any outer indentation level\n"
     ]
    }
   ],
   "source": [
    "class OddEven():\n",
    "    \n",
    "   def OddEven():\n",
    "     \n",
    "       num = int(input(\"Enter a number: \"))\n",
    "       \n",
    "            if (num % 2) == 0:\n",
    "                \n",
    "              print(\"{0} is Even number\".format(num))\n",
    "                \n",
    "           else:\n",
    "               \n",
    "              print(\"{0} is Odd number\".format(num))\n"
   ]
  },
  {
   "cell_type": "code",
   "execution_count": 36,
   "id": "ea2d759e-6bc5-4587-8644-a33e3af2dd6a",
   "metadata": {},
   "outputs": [],
   "source": [
    "class triangle():\n",
    "  def triangle():\n",
    "        Height=int(input(\"Height:\"))\n",
    "        breadth=int(input(\"Breadth:\"))\n",
    "        print(\"Area formula: (Height*Breadth)/2\")\n",
    "        print(\"Area of Triangle: \",(Height*breadth)/2)\n",
    "        Height1=int(input(\"Height1:\"))\n",
    "        Height2=int(input(\"Height2:\"))\n",
    "        breadth=int(input(\"Breadth:\"))\n",
    "        print(\"Perimeter formula: Height1+Height2+Breadth\")\n",
    "        print(\"Perimeter of Triangle: \",Height1+Height2+breadth)"
   ]
  },
  {
   "cell_type": "code",
   "execution_count": 37,
   "id": "8b162bd2-de18-476c-9103-3b2179828742",
   "metadata": {},
   "outputs": [
    {
     "name": "stdin",
     "output_type": "stream",
     "text": [
      "Height: 2342\n",
      "Breadth: 423\n"
     ]
    },
    {
     "name": "stdout",
     "output_type": "stream",
     "text": [
      "Area formula: (Height*Breadth)/2\n",
      "Area of Triangle:  495333.0\n"
     ]
    },
    {
     "name": "stdin",
     "output_type": "stream",
     "text": [
      "Height1: 342\n",
      "Height2: 232\n",
      "Breadth: 44\n"
     ]
    },
    {
     "name": "stdout",
     "output_type": "stream",
     "text": [
      "Perimeter formula: Height1+Height2+Breadth\n",
      "Perimeter of Triangle:  618\n"
     ]
    }
   ],
   "source": [
    "triangle.triangle()"
   ]
  },
  {
   "cell_type": "code",
   "execution_count": null,
   "id": "dcea0139-7f6b-4be9-b121-1d13a436768f",
   "metadata": {},
   "outputs": [],
   "source": []
  }
 ],
 "metadata": {
  "kernelspec": {
   "display_name": "Python 3 (ipykernel)",
   "language": "python",
   "name": "python3"
  },
  "language_info": {
   "codemirror_mode": {
    "name": "ipython",
    "version": 3
   },
   "file_extension": ".py",
   "mimetype": "text/x-python",
   "name": "python",
   "nbconvert_exporter": "python",
   "pygments_lexer": "ipython3",
   "version": "3.12.7"
  }
 },
 "nbformat": 4,
 "nbformat_minor": 5
}
