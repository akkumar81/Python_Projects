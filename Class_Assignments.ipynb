{
 "cells": [
  {
   "cell_type": "code",
   "execution_count": 1,
   "id": "df789eee-51b6-4255-a843-2516bd8d2746",
   "metadata": {},
   "outputs": [
    {
     "ename": "IndentationError",
     "evalue": "expected an indented block after class definition on line 1 (3164509688.py, line 2)",
     "output_type": "error",
     "traceback": [
      "\u001b[1;36m  Cell \u001b[1;32mIn[1], line 2\u001b[1;36m\u001b[0m\n\u001b[1;33m    def Subfields():\u001b[0m\n\u001b[1;37m    ^\u001b[0m\n\u001b[1;31mIndentationError\u001b[0m\u001b[1;31m:\u001b[0m expected an indented block after class definition on line 1\n"
     ]
    }
   ],
   "source": [
    "class SubfieldsInAI():\n",
    "def Subfields():\n",
    "print(\"Sub-fields in AI are:\")\n",
    "List=['Machine Learning', 'Neural Networks', 'Vision', 'Robotics', 'Speech Processing', 'Natural Language Processing']\n",
    "for temp in List:\n",
    "print(temp)\n"
   ]
  },
  {
   "cell_type": "code",
   "execution_count": 2,
   "id": "f94e01cb-535e-41f1-85f2-3c0b5b356788",
   "metadata": {},
   "outputs": [
    {
     "ename": "IndentationError",
     "evalue": "expected an indented block after function definition on line 1 (1301717149.py, line 2)",
     "output_type": "error",
     "traceback": [
      "\u001b[1;36m  Cell \u001b[1;32mIn[2], line 2\u001b[1;36m\u001b[0m\n\u001b[1;33m    print(\"Sub-fields in AI are:\")\u001b[0m\n\u001b[1;37m    ^\u001b[0m\n\u001b[1;31mIndentationError\u001b[0m\u001b[1;31m:\u001b[0m expected an indented block after function definition on line 1\n"
     ]
    }
   ],
   "source": [
    "def Subfields():\n",
    "print(\"Sub-fields in AI are:\")\n",
    "List=['Machine Learning', 'Neural Networks', 'Vision', 'Robotics', 'Speech Processing', 'Natural Language Processing']\n",
    "for temp in List:\n",
    "print(temp)"
   ]
  },
  {
   "cell_type": "code",
   "execution_count": 6,
   "id": "b02deba3-54b4-4cef-a29f-e07d646367a8",
   "metadata": {},
   "outputs": [
    {
     "ename": "IndentationError",
     "evalue": "expected an indented block after function definition on line 1 (1318527886.py, line 2)",
     "output_type": "error",
     "traceback": [
      "\u001b[1;36m  Cell \u001b[1;32mIn[6], line 2\u001b[1;36m\u001b[0m\n\u001b[1;33m    --print(\"Sub-fields in AI are:\")\u001b[0m\n\u001b[1;37m    ^\u001b[0m\n\u001b[1;31mIndentationError\u001b[0m\u001b[1;31m:\u001b[0m expected an indented block after function definition on line 1\n"
     ]
    }
   ],
   "source": [
    "def Subfields():\n",
    "--print(\"Sub-fields in AI are:\")\n",
    "List=['Machine Learning', 'Neural Networks', 'Vision', 'Robotics', 'Speech Processing', 'Natural Language Processing']\n",
    "for temp in List:\n",
    "print(temp)"
   ]
  },
  {
   "cell_type": "code",
   "execution_count": 5,
   "id": "dd490d90-2b6b-4b13-809e-a04819971019",
   "metadata": {},
   "outputs": [
    {
     "ename": "SyntaxError",
     "evalue": "invalid syntax (755424627.py, line 1)",
     "output_type": "error",
     "traceback": [
      "\u001b[1;36m  Cell \u001b[1;32mIn[5], line 1\u001b[1;36m\u001b[0m\n\u001b[1;33m    Subfields():\u001b[0m\n\u001b[1;37m               ^\u001b[0m\n\u001b[1;31mSyntaxError\u001b[0m\u001b[1;31m:\u001b[0m invalid syntax\n"
     ]
    }
   ],
   "source": [
    "Subfields():"
   ]
  },
  {
   "cell_type": "code",
   "execution_count": 7,
   "id": "b18d3adb-3421-4619-a301-3a2fa6e69bac",
   "metadata": {},
   "outputs": [
    {
     "name": "stdout",
     "output_type": "stream",
     "text": [
      "banana\n"
     ]
    }
   ],
   "source": [
    "thislist = [\"apple\", \"banana\", \"cherry\"]\n",
    "print(thislist[1])"
   ]
  },
  {
   "cell_type": "code",
   "execution_count": 8,
   "id": "99c0306d-04a8-4459-adaf-f72fc34dc791",
   "metadata": {},
   "outputs": [
    {
     "ename": "IndexError",
     "evalue": "list index out of range",
     "output_type": "error",
     "traceback": [
      "\u001b[1;31m---------------------------------------------------------------------------\u001b[0m",
      "\u001b[1;31mIndexError\u001b[0m                                Traceback (most recent call last)",
      "Cell \u001b[1;32mIn[8], line 2\u001b[0m\n\u001b[0;32m      1\u001b[0m thislist \u001b[38;5;241m=\u001b[39m [\u001b[38;5;124m\"\u001b[39m\u001b[38;5;124mapple\u001b[39m\u001b[38;5;124m\"\u001b[39m, \u001b[38;5;124m\"\u001b[39m\u001b[38;5;124mbanana\u001b[39m\u001b[38;5;124m\"\u001b[39m, \u001b[38;5;124m\"\u001b[39m\u001b[38;5;124mcherry\u001b[39m\u001b[38;5;124m\"\u001b[39m]\n\u001b[1;32m----> 2\u001b[0m \u001b[38;5;28mprint\u001b[39m(thislist[\u001b[38;5;241m4\u001b[39m])\n",
      "\u001b[1;31mIndexError\u001b[0m: list index out of range"
     ]
    }
   ],
   "source": [
    "thislist = [\"apple\", \"banana\", \"cherry\"]\n",
    "print(thislist[4])"
   ]
  },
  {
   "cell_type": "code",
   "execution_count": 9,
   "id": "d6f744fc-f50d-4b2a-9bbc-7788fdc7321b",
   "metadata": {},
   "outputs": [
    {
     "name": "stdout",
     "output_type": "stream",
     "text": [
      "cherry\n"
     ]
    }
   ],
   "source": [
    "thislist = [\"apple\", \"banana\", \"cherry\"]\n",
    "print(thislist[2])"
   ]
  },
  {
   "cell_type": "code",
   "execution_count": 10,
   "id": "89daeda6-6549-440c-9033-c7ec1ac6b3ce",
   "metadata": {},
   "outputs": [
    {
     "ename": "IndentationError",
     "evalue": "expected an indented block after class definition on line 1 (1041656634.py, line 2)",
     "output_type": "error",
     "traceback": [
      "\u001b[1;36m  Cell \u001b[1;32mIn[10], line 2\u001b[1;36m\u001b[0m\n\u001b[1;33m    def OddEven():\u001b[0m\n\u001b[1;37m    ^\u001b[0m\n\u001b[1;31mIndentationError\u001b[0m\u001b[1;31m:\u001b[0m expected an indented block after class definition on line 1\n"
     ]
    }
   ],
   "source": [
    "class OddEven():\n",
    "def OddEven():\n",
    "num = int(input(\"Enter a number: \"))\n",
    "if (num % 2) == 0:\n",
    "print(\"{0} is Even number\".format(num))\n",
    "else:\n",
    "print(\"{0} is Odd number\".format(num))"
   ]
  },
  {
   "cell_type": "code",
   "execution_count": 11,
   "id": "507d7cc0-5f90-4b7a-8aba-180c6eb70773",
   "metadata": {},
   "outputs": [
    {
     "ename": "IndentationError",
     "evalue": "expected an indented block after function definition on line 1 (1865933920.py, line 2)",
     "output_type": "error",
     "traceback": [
      "\u001b[1;36m  Cell \u001b[1;32mIn[11], line 2\u001b[1;36m\u001b[0m\n\u001b[1;33m    num = int(input(\"Enter a number: \"))\u001b[0m\n\u001b[1;37m    ^\u001b[0m\n\u001b[1;31mIndentationError\u001b[0m\u001b[1;31m:\u001b[0m expected an indented block after function definition on line 1\n"
     ]
    }
   ],
   "source": [
    "def wOddEven():\n",
    "num = int(input(\"Enter a number: \"))\n",
    "if (num % 2) == 0:\n",
    "print(\"{0} is Even number\".format(num))\n",
    "else:\n",
    "print(\"{0} is Odd number\".format(num))"
   ]
  },
  {
   "cell_type": "code",
   "execution_count": 12,
   "id": "f6079fd4-83d1-4bb0-b224-f891dfb889fe",
   "metadata": {},
   "outputs": [
    {
     "ename": "NameError",
     "evalue": "name 'wOddEven' is not defined",
     "output_type": "error",
     "traceback": [
      "\u001b[1;31m---------------------------------------------------------------------------\u001b[0m",
      "\u001b[1;31mNameError\u001b[0m                                 Traceback (most recent call last)",
      "Cell \u001b[1;32mIn[12], line 1\u001b[0m\n\u001b[1;32m----> 1\u001b[0m wOddEven()\n",
      "\u001b[1;31mNameError\u001b[0m: name 'wOddEven' is not defined"
     ]
    }
   ],
   "source": [
    "wOddEven()"
   ]
  },
  {
   "cell_type": "code",
   "execution_count": 15,
   "id": "130ead89-0122-4185-bd9e-f5591c8161c1",
   "metadata": {},
   "outputs": [
    {
     "ename": "IndentationError",
     "evalue": "unindent does not match any outer indentation level (<string>, line 4)",
     "output_type": "error",
     "traceback": [
      "\u001b[1;36m  File \u001b[1;32m<string>:4\u001b[1;36m\u001b[0m\n\u001b[1;33m    List=['Machine Learning', 'Neural Networks', 'Vision', 'Robotics', 'Speech Processing', 'Natural Language Processing']\u001b[0m\n\u001b[1;37m                                                                                                                          ^\u001b[0m\n\u001b[1;31mIndentationError\u001b[0m\u001b[1;31m:\u001b[0m unindent does not match any outer indentation level\n"
     ]
    }
   ],
   "source": [
    "class SubfieldsInAI():\n",
    "              def Subfields():\n",
    "              print(\"Sub-fields in AI are:\")\n",
    "            List=['Machine Learning', 'Neural Networks', 'Vision', 'Robotics', 'Speech Processing', 'Natural Language Processing']\n",
    "\n",
    "for temp in List:\n",
    "   print(temp)"
   ]
  },
  {
   "cell_type": "code",
   "execution_count": 16,
   "id": "0be31f37-8f00-4722-a98e-de15a07e3aa9",
   "metadata": {},
   "outputs": [
    {
     "ename": "IndentationError",
     "evalue": "expected an indented block after function definition on line 1 (4127594454.py, line 2)",
     "output_type": "error",
     "traceback": [
      "\u001b[1;36m  Cell \u001b[1;32mIn[16], line 2\u001b[1;36m\u001b[0m\n\u001b[1;33m    if a > 2:\u001b[0m\n\u001b[1;37m    ^\u001b[0m\n\u001b[1;31mIndentationError\u001b[0m\u001b[1;31m:\u001b[0m expected an indented block after function definition on line 1\n"
     ]
    }
   ],
   "source": [
    "def check_number(a):\n",
    "if a > 2:\n",
    "if a < 7:\n",
    "return \"Number is between 2 and 7\"\n",
    "return \"Number is greater than 2\"\n",
    "return \"Number is out of the range of 2 and 7\"\n",
    "\n",
    "a = 5\n",
    "result = check_number(a)\n",
    "print(result)"
   ]
  },
  {
   "cell_type": "code",
   "execution_count": 17,
   "id": "bd648f57-950f-423b-a090-947eba62a453",
   "metadata": {},
   "outputs": [
    {
     "name": "stdout",
     "output_type": "stream",
     "text": [
      "Number is between 2 and 7\n"
     ]
    }
   ],
   "source": [
    "def check_number(a):\n",
    "    if a > 2:\n",
    "        if a < 7:\n",
    "            return \"Number is between 2 and 7\"\n",
    "        return \"Number is greater than 2\"\n",
    "    return \"Number is out of the range of 2 and 7\"\n",
    "\n",
    "a = 5\n",
    "result = check_number(a)\n",
    "print(result)"
   ]
  },
  {
   "cell_type": "code",
   "execution_count": 18,
   "id": "c574cf38-d2ee-4a32-b09d-ff3be61faa0e",
   "metadata": {},
   "outputs": [
    {
     "ename": "IndentationError",
     "evalue": "expected an indented block after class definition on line 1 (1543642676.py, line 2)",
     "output_type": "error",
     "traceback": [
      "\u001b[1;36m  Cell \u001b[1;32mIn[18], line 2\u001b[1;36m\u001b[0m\n\u001b[1;33m    def Subfields():\u001b[0m\n\u001b[1;37m    ^\u001b[0m\n\u001b[1;31mIndentationError\u001b[0m\u001b[1;31m:\u001b[0m expected an indented block after class definition on line 1\n"
     ]
    }
   ],
   "source": [
    "class SubfieldsInAI():\n",
    "def Subfields():\n",
    "print(\"Sub-fields in AI are:\")\n",
    "List=['Machine Learning', 'Neural Networks', 'Vision', 'Robotics', 'Speech Processing', 'Natural Language Processing']\n",
    "for temp in List:\n",
    "print(temp)"
   ]
  },
  {
   "cell_type": "code",
   "execution_count": 22,
   "id": "06745bb8-cb2c-4840-b83e-b6d791f2282b",
   "metadata": {},
   "outputs": [],
   "source": [
    "def my_function():\n",
    "  print(\"Hello from a function\")\n"
   ]
  },
  {
   "cell_type": "code",
   "execution_count": 24,
   "id": "49de8e1b-1a4b-40c8-aeb2-2421a8a8e3de",
   "metadata": {},
   "outputs": [
    {
     "name": "stdout",
     "output_type": "stream",
     "text": [
      "Hello from a function\n"
     ]
    }
   ],
   "source": [
    "my_function()"
   ]
  },
  {
   "cell_type": "code",
   "execution_count": 25,
   "id": "2f21b15a-150f-4ef4-97c4-f4ad8f19bb3e",
   "metadata": {},
   "outputs": [],
   "source": [
    "def Subfields():\n",
    "     print(\"Sub-fields in AI are:\")"
   ]
  },
  {
   "cell_type": "code",
   "execution_count": 26,
   "id": "f66c4788-4a8e-4133-8f5f-25d5221a6438",
   "metadata": {},
   "outputs": [
    {
     "name": "stdout",
     "output_type": "stream",
     "text": [
      "Sub-fields in AI are:\n"
     ]
    }
   ],
   "source": [
    "Subfields()"
   ]
  },
  {
   "cell_type": "code",
   "execution_count": 29,
   "id": "b0f6ccc0-2794-46f3-8887-0750fc21ed0b",
   "metadata": {},
   "outputs": [],
   "source": [
    "def Subfields():\n",
    "             print(\"Sub-fields in AI are:\")\n",
    "            "
   ]
  },
  {
   "cell_type": "code",
   "execution_count": 39,
   "id": "d0ef2321-ff89-4049-acb0-4e0db7b0280e",
   "metadata": {},
   "outputs": [
    {
     "name": "stdout",
     "output_type": "stream",
     "text": [
      "Machine Learning\n",
      "Neural Networks\n",
      "Vision\n",
      "Robotics\n",
      "Speech Processing\n",
      "Natural Language Processing\n"
     ]
    }
   ],
   "source": [
    "class SubfieldsInAI():\n",
    "       def Subfields():\n",
    "         print(\"Sub-fields in AI are:\")\n",
    "List=['Machine Learning', 'Neural Networks', 'Vision', 'Robotics', 'Speech Processing', 'Natural Language Processing']\n",
    "for temp in List:\n",
    "   print(temp)"
   ]
  },
  {
   "cell_type": "code",
   "execution_count": 37,
   "id": "ebffbdf6-6255-415f-a3ff-1fee9c7ec04d",
   "metadata": {},
   "outputs": [
    {
     "name": "stdout",
     "output_type": "stream",
     "text": [
      "Machine Learning\n",
      "Neural Networks\n",
      "Vision\n",
      "Robotics\n",
      "Speech Processing\n",
      "Natural Language Processing\n"
     ]
    }
   ],
   "source": [
    "\n",
    "    class A():\n",
    "       def B():\n",
    "         print(\"Sub-fields in AI are:\")\n",
    "List=['Machine Learning', 'Neural Networks', 'Vision', 'Robotics', 'Speech Processing', 'Natural Language Processing']\n",
    "for temp in List:\n",
    "   print(temp)\n"
   ]
  },
  {
   "cell_type": "code",
   "execution_count": 35,
   "id": "a40af047-d1e1-4ddf-8474-495cde5a4f96",
   "metadata": {},
   "outputs": [
    {
     "name": "stdout",
     "output_type": "stream",
     "text": [
      "Sub-fields in AI are:\n"
     ]
    }
   ],
   "source": [
    "SubfieldsInAI.Subfields()"
   ]
  },
  {
   "cell_type": "code",
   "execution_count": 38,
   "id": "f2c1b2d9-c139-4852-9bed-f2559b850643",
   "metadata": {},
   "outputs": [
    {
     "name": "stdout",
     "output_type": "stream",
     "text": [
      "Sub-fields in AI are:\n"
     ]
    }
   ],
   "source": [
    "A.B()"
   ]
  },
  {
   "cell_type": "code",
   "execution_count": 40,
   "id": "874f09f1-d642-436a-bc8a-f9ae2d0dce24",
   "metadata": {},
   "outputs": [
    {
     "name": "stdout",
     "output_type": "stream",
     "text": [
      "Machine Learning\n",
      "Neural Networks\n",
      "Vision\n",
      "Robotics\n",
      "Speech Processing\n",
      "Natural Language Processing\n"
     ]
    }
   ],
   "source": [
    "class SubfieldsInAI():\n",
    "       def Subfields():\n",
    "         print(\"Sub-fields in AI are:\")\n",
    "List=['Machine Learning', 'Neural Networks', 'Vision', 'Robotics', 'Speech Processing', 'Natural Language Processing']\n",
    "for temp in List:\n",
    "   print(temp)"
   ]
  },
  {
   "cell_type": "code",
   "execution_count": 41,
   "id": "a4dba2a3-bbfb-4170-94fa-f8bcf7f68a82",
   "metadata": {},
   "outputs": [],
   "source": [
    "class OddEven():\n",
    "  def OddEven():\n",
    "    num = int(input(\"Enter a number: \"))\n",
    "    if (num % 2) == 0:\n",
    "        print(\"{0} is Even number\".format(num))\n",
    "    else:\n",
    "        print(\"{0} is Odd number\".format(num))\n"
   ]
  },
  {
   "cell_type": "code",
   "execution_count": 42,
   "id": "5715aa7c-7b22-426f-8e95-67ab2a2a7393",
   "metadata": {},
   "outputs": [
    {
     "name": "stdin",
     "output_type": "stream",
     "text": [
      "Enter a number:  11\n"
     ]
    },
    {
     "name": "stdout",
     "output_type": "stream",
     "text": [
      "11 is Odd number\n"
     ]
    }
   ],
   "source": [
    "OddEven.OddEven()"
   ]
  },
  {
   "cell_type": "code",
   "execution_count": 43,
   "id": "6c202024-6742-4170-b17b-d1ee1f6c08b8",
   "metadata": {},
   "outputs": [],
   "source": [
    "class OddEvenFN():\n",
    "  def OddEvenFN():\n",
    "    num = int(input(\"Enter a number: \"))\n",
    "    if (num % 2) == 0:\n",
    "        print(\"{0} is Even number\".format(num))\n",
    "    else:\n",
    "        print(\"{0} is Odd number\".format(num))"
   ]
  },
  {
   "cell_type": "code",
   "execution_count": 44,
   "id": "502f1cc8-9531-4a59-bc3a-5d303c884306",
   "metadata": {},
   "outputs": [
    {
     "name": "stdin",
     "output_type": "stream",
     "text": [
      "Enter a number:  112\n"
     ]
    },
    {
     "name": "stdout",
     "output_type": "stream",
     "text": [
      "112 is Even number\n"
     ]
    }
   ],
   "source": [
    "OddEvenFN.OddEvenFN()"
   ]
  },
  {
   "cell_type": "code",
   "execution_count": 64,
   "id": "e7fd2056-b00e-4be1-ab80-5807d7a5daeb",
   "metadata": {},
   "outputs": [
    {
     "ename": "IndentationError",
     "evalue": "unexpected indent (2344209416.py, line 7)",
     "output_type": "error",
     "traceback": [
      "\u001b[1;36m  Cell \u001b[1;32mIn[64], line 7\u001b[1;36m\u001b[0m\n\u001b[1;33m    if(gender=='Male'):\u001b[0m\n\u001b[1;37m    ^\u001b[0m\n\u001b[1;31mIndentationError\u001b[0m\u001b[1;31m:\u001b[0m unexpected indent\n"
     ]
    }
   ],
   "source": [
    "class ElegiblityForMarriage():\n",
    "      def Elegible():\n",
    "      \n",
    "          gender=input(\"Your Gender:\")     \n",
    "          age=int(input(\"Your Age:\"))\n",
    "       \n",
    "            if(gender=='Male'):              \n",
    "               if(age >=21):\n",
    "               print('ELIGIBLE')\n",
    "               else:\n",
    "               print('NOT ELIGIBLE')\n",
    "            elif(gender=='Female'):\n",
    "               if(age >18):\n",
    "               print('ELIGIBLE')\n",
    "               else:\n",
    "               print('NOT ELIGIBLE')\n",
    "            else:\n",
    "               print('INVALID INPUT DATA')\n"
   ]
  },
  {
   "cell_type": "code",
   "execution_count": null,
   "id": "b16a6d4d-0690-4db5-919d-b5e3a12a15cc",
   "metadata": {},
   "outputs": [],
   "source": []
  },
  {
   "cell_type": "code",
   "execution_count": 58,
   "id": "2dda91ed-7a30-4167-898a-9e7b21dd3d88",
   "metadata": {},
   "outputs": [
    {
     "ename": "NameError",
     "evalue": "name 'ElegiblityForMarriage' is not defined",
     "output_type": "error",
     "traceback": [
      "\u001b[1;31m---------------------------------------------------------------------------\u001b[0m",
      "\u001b[1;31mNameError\u001b[0m                                 Traceback (most recent call last)",
      "Cell \u001b[1;32mIn[58], line 1\u001b[0m\n\u001b[1;32m----> 1\u001b[0m ElegiblityForMarriage\u001b[38;5;241m.\u001b[39mElegible()\n",
      "\u001b[1;31mNameError\u001b[0m: name 'ElegiblityForMarriage' is not defined"
     ]
    }
   ],
   "source": [
    "ElegiblityForMarriage.Elegible()"
   ]
  },
  {
   "cell_type": "code",
   "execution_count": 62,
   "id": "41930307-d989-4466-9d2f-c3a600f8357a",
   "metadata": {},
   "outputs": [],
   "source": [
    "class FindPercent():\n",
    "    def percentage():\n",
    "        m1=int(input(\"Subject1= \"))\n",
    "        m2=int(input(\"Subject2= \"))\n",
    "        m3=int(input(\"Subject3= \"))\n",
    "        m4=int(input(\"Subject4= \"))\n",
    "        m5=int(input(\"Subject5= \"))\n",
    "        Total = m1+m2+m3+m4+m5\n",
    "        print(\"Total : \",m1+m2+m3+m4+m5)\n",
    "        Percent = (Total / 500) * 100\n",
    "        print(\"Percentage : \",Percent)\n"
   ]
  },
  {
   "cell_type": "code",
   "execution_count": 63,
   "id": "5af64df4-8d6e-4f0f-a3a9-58df74513844",
   "metadata": {},
   "outputs": [
    {
     "name": "stdin",
     "output_type": "stream",
     "text": [
      "Subject1=  76\n",
      "Subject2=  55\n",
      "Subject3=  555\n",
      "Subject4=  34\n",
      "Subject5=  33\n"
     ]
    },
    {
     "name": "stdout",
     "output_type": "stream",
     "text": [
      "Total :  753\n",
      "Percentage :  150.6\n"
     ]
    }
   ],
   "source": [
    "FindPercent.percentage()"
   ]
  },
  {
   "cell_type": "code",
   "execution_count": 96,
   "id": "906ede0d-fe73-4ff8-b5a0-967fd6b9f69a",
   "metadata": {},
   "outputs": [],
   "source": [
    "def Elegible():      \n",
    "    gender=input(\"Your Gender:\")     \n",
    "    age=int(input(\"Your Age:\"))       \n",
    "       "
   ]
  },
  {
   "cell_type": "code",
   "execution_count": 97,
   "id": "233f0e55-516c-4a3b-ae76-0aa1f2113f9e",
   "metadata": {},
   "outputs": [
    {
     "name": "stdin",
     "output_type": "stream",
     "text": [
      "Your Gender: ewe\n",
      "Your Age: ere\n"
     ]
    },
    {
     "ename": "ValueError",
     "evalue": "invalid literal for int() with base 10: 'ere'",
     "output_type": "error",
     "traceback": [
      "\u001b[1;31m---------------------------------------------------------------------------\u001b[0m",
      "\u001b[1;31mValueError\u001b[0m                                Traceback (most recent call last)",
      "Cell \u001b[1;32mIn[97], line 1\u001b[0m\n\u001b[1;32m----> 1\u001b[0m Elegible()\n",
      "Cell \u001b[1;32mIn[96], line 3\u001b[0m, in \u001b[0;36mElegible\u001b[1;34m()\u001b[0m\n\u001b[0;32m      1\u001b[0m \u001b[38;5;28;01mdef\u001b[39;00m \u001b[38;5;21mElegible\u001b[39m():      \n\u001b[0;32m      2\u001b[0m     gender\u001b[38;5;241m=\u001b[39m\u001b[38;5;28minput\u001b[39m(\u001b[38;5;124m\"\u001b[39m\u001b[38;5;124mYour Gender:\u001b[39m\u001b[38;5;124m\"\u001b[39m)     \n\u001b[1;32m----> 3\u001b[0m     age\u001b[38;5;241m=\u001b[39m\u001b[38;5;28mint\u001b[39m(\u001b[38;5;28minput\u001b[39m(\u001b[38;5;124m\"\u001b[39m\u001b[38;5;124mYour Age:\u001b[39m\u001b[38;5;124m\"\u001b[39m))\n",
      "\u001b[1;31mValueError\u001b[0m: invalid literal for int() with base 10: 'ere'"
     ]
    }
   ],
   "source": [
    "Elegible()"
   ]
  },
  {
   "cell_type": "code",
   "execution_count": 98,
   "id": "57a32efd-b261-44b9-97e1-0f230b647608",
   "metadata": {},
   "outputs": [
    {
     "name": "stdin",
     "output_type": "stream",
     "text": [
      "Your Gender: Male\n",
      "Your Age: 33\n"
     ]
    }
   ],
   "source": [
    "Elegible()"
   ]
  },
  {
   "cell_type": "code",
   "execution_count": 99,
   "id": "5f54cd3d-d0a8-454f-b013-231cf181d811",
   "metadata": {},
   "outputs": [
    {
     "name": "stdout",
     "output_type": "stream",
     "text": [
      "30\n"
     ]
    }
   ],
   "source": [
    "print(total)"
   ]
  },
  {
   "cell_type": "code",
   "execution_count": 102,
   "id": "da18ba74-f20a-4faa-8694-f74669edf776",
   "metadata": {},
   "outputs": [
    {
     "name": "stdout",
     "output_type": "stream",
     "text": [
      "30\n"
     ]
    }
   ],
   "source": [
    "def sum(a, b):\n",
    "    return a + b\n",
    "\n",
    "\n",
    "total = sum(10,20)\n",
    "print(total)"
   ]
  },
  {
   "cell_type": "code",
   "execution_count": 101,
   "id": "4fb572b4-3ba4-4f55-a170-a4c5af435171",
   "metadata": {},
   "outputs": [
    {
     "data": {
      "text/plain": [
       "3"
      ]
     },
     "execution_count": 101,
     "metadata": {},
     "output_type": "execute_result"
    }
   ],
   "source": [
    "sum(1,2)"
   ]
  },
  {
   "cell_type": "code",
   "execution_count": 107,
   "id": "8f6d8586-8dc2-420b-b339-e11fb64b3a3e",
   "metadata": {},
   "outputs": [],
   "source": [
    "class triangle():\n",
    "   def triangle():\n",
    "        Height=int(input(\"Height:\"))\n",
    "        breadth=int(input(\"Breadth:\"))\n",
    "        print(\"Area formula: (Height*Breadth)/2\")\n",
    "        print(\"Area of Triangle: \",(Height*breadth)/2)\n",
    "        Height1=int(input(\"Height1:\"))\n",
    "        Height2=int(input(\"Height2:\"))\n",
    "        breadth=int(input(\"Breadth:\"))\n",
    "        print(\"Perimeter formula: Height1+Height2+Breadth\")\n",
    "        print(\"Perimeter of Triangle: \",Height1+Height2+breadth)"
   ]
  },
  {
   "cell_type": "raw",
   "id": "91675a5c-09c7-432f-bb0a-2560b9bc1da4",
   "metadata": {},
   "source": [
    "triangle.triange()"
   ]
  },
  {
   "cell_type": "code",
   "execution_count": 109,
   "id": "59db345c-bd30-46ad-a99e-4e1db3ca46e5",
   "metadata": {},
   "outputs": [],
   "source": [
    "def triangle():\n",
    "    \n",
    "        Height=int(input(\"Height:\"))\n",
    "        breadth=int(input(\"Breadth:\"))\n",
    "        print(\"Area formula: (Height*Breadth)/2\")\n",
    "        print(\"Area of Triangle: \",(Height*breadth)/2)\n",
    "        Height1=int(input(\"Height1:\"))\n",
    "        Height2=int(input(\"Height2:\"))\n",
    "        breadth=int(input(\"Breadth:\"))\n",
    "        print(\"Perimeter formula: Height1+Height2+Breadth\")\n",
    "        print(\"Perimeter of Triangle: \",Height1+Height2+breadth)"
   ]
  },
  {
   "cell_type": "code",
   "execution_count": 111,
   "id": "013e53d1-aed5-47c7-a3dd-c3a2257d6134",
   "metadata": {},
   "outputs": [
    {
     "name": "stdin",
     "output_type": "stream",
     "text": [
      "Height: 12\n",
      "Breadth: 12\n"
     ]
    },
    {
     "name": "stdout",
     "output_type": "stream",
     "text": [
      "Area formula: (Height*Breadth)/2\n",
      "Area of Triangle:  72.0\n"
     ]
    },
    {
     "name": "stdin",
     "output_type": "stream",
     "text": [
      "Height1: 89\n",
      "Height2: 70\n",
      "Breadth: 67\n"
     ]
    },
    {
     "name": "stdout",
     "output_type": "stream",
     "text": [
      "Perimeter formula: Height1+Height2+Breadth\n",
      "Perimeter of Triangle:  226\n"
     ]
    }
   ],
   "source": [
    "triangle()"
   ]
  },
  {
   "cell_type": "code",
   "execution_count": 112,
   "id": "d992b501-06aa-47d2-a6b7-c752e1c78046",
   "metadata": {},
   "outputs": [],
   "source": [
    "class cal():\n",
    "\n",
    " def triangle():\n",
    "    \n",
    "        Height=int(input(\"Height:\"))\n",
    "        breadth=int(input(\"Breadth:\"))\n",
    "        print(\"Area formula: (Height*Breadth)/2\")\n",
    "        print(\"Area of Triangle: \",(Height*breadth)/2)\n",
    "        Height1=int(input(\"Height1:\"))\n",
    "        Height2=int(input(\"Height2:\"))\n",
    "        breadth=int(input(\"Breadth:\"))\n",
    "        print(\"Perimeter formula: Height1+Height2+Breadth\")\n",
    "        print(\"Perimeter of Triangle: \",Height1+Height2+breadth)"
   ]
  },
  {
   "cell_type": "code",
   "execution_count": 113,
   "id": "cbae4f93-6a5f-4201-bdbb-4e4743cab4bc",
   "metadata": {},
   "outputs": [
    {
     "name": "stdin",
     "output_type": "stream",
     "text": [
      "Height: 12\n",
      "Breadth: 23\n"
     ]
    },
    {
     "name": "stdout",
     "output_type": "stream",
     "text": [
      "Area formula: (Height*Breadth)/2\n",
      "Area of Triangle:  138.0\n"
     ]
    },
    {
     "name": "stdin",
     "output_type": "stream",
     "text": [
      "Height1: 24\n",
      "Height2: 44\n",
      "Breadth: 55\n"
     ]
    },
    {
     "name": "stdout",
     "output_type": "stream",
     "text": [
      "Perimeter formula: Height1+Height2+Breadth\n",
      "Perimeter of Triangle:  123\n"
     ]
    }
   ],
   "source": [
    "cal.triangle()"
   ]
  },
  {
   "cell_type": "code",
   "execution_count": null,
   "id": "a9bf4434-24eb-49de-a69d-aa1f35ed2bf5",
   "metadata": {},
   "outputs": [],
   "source": []
  }
 ],
 "metadata": {
  "kernelspec": {
   "display_name": "Python 3 (ipykernel)",
   "language": "python",
   "name": "python3"
  },
  "language_info": {
   "codemirror_mode": {
    "name": "ipython",
    "version": 3
   },
   "file_extension": ".py",
   "mimetype": "text/x-python",
   "name": "python",
   "nbconvert_exporter": "python",
   "pygments_lexer": "ipython3",
   "version": "3.12.7"
  }
 },
 "nbformat": 4,
 "nbformat_minor": 5
}
